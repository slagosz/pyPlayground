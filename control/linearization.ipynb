{
 "cells": [
  {
   "cell_type": "code",
   "execution_count": 22,
   "metadata": {
    "collapsed": true
   },
   "outputs": [],
   "source": [
    "import casadi as cs\n",
    "\n",
    "\n",
    "x = cs.SX.sym('x')\n",
    "x0 = cs.SX.sym('x0')\n",
    "rhs = x*x # Nonlinear equation\n",
    "\n",
    "f = cs.Function('f', [x], [rhs])\n",
    "f_linear = cs.Function('f_linear', [x, x0], [cs.linearize(rhs, x, x0)])\n",
    "jacobian = cs.jacobian(rhs, x)\n",
    "\n"
   ]
  },
  {
   "cell_type": "code",
   "execution_count": 24,
   "outputs": [
    {
     "name": "stdout",
     "output_type": "stream",
     "text": [
      "28\n",
      "(x+x)\n"
     ]
    }
   ],
   "source": [
    "print(f_linear(6, 2))\n",
    "print(jacobian)"
   ],
   "metadata": {
    "collapsed": false
   }
  },
  {
   "cell_type": "code",
   "execution_count": 29,
   "outputs": [],
   "source": [
    "import numpy as np\n",
    "\n",
    "## parameters\n",
    "mCart = 1  # cart mass\n",
    "mPend = 1  # pendulum mass\n",
    "G = 9.81   # gravity of earth\n",
    "L = 0.5    # pendulum length\n",
    "Kd = 10    # cart damping\n",
    "\n",
    "fun = lambda x, u: np.array(\n",
    "        [x[1],\n",
    "        (u - Kd*x[1] - mPend*L*x[3]**2*np.sin(x[2]) + mPend*G*np.sin(x[2])*np.cos(x[2])) / (mCart + mPend*np.sin(x[2])**2),\n",
    "        x[3],\n",
    "        ((u - Kd*x[1] - mPend*L*x[3]**2*np.sin(x[2]))*np.cos(x[2])/(mCart + mPend) + G*np.sin(x[2])) / (L - mPend*L*np.cos(x[2])**2/(mCart + mPend))]\n",
    ")\n",
    "\n",
    "x = cs.SX.sym('x', 4)\n",
    "u = cs.SX.sym('u')\n",
    "x0 = cs.SX.sym('x0', 4)\n",
    "\n",
    "rhs = fun(x, u)\n",
    "\n",
    "f = cs.Function('f', [x, u], [rhs])\n",
    "ff = cs.linearize(rhs, x, x0)\n",
    "\n",
    "j_x = cs.jacobian(rhs, x)\n",
    "j_u = cs.jacobian(rhs, u)"
   ],
   "metadata": {
    "collapsed": false
   }
  },
  {
   "cell_type": "code",
   "execution_count": 39,
   "outputs": [
    {
     "data": {
      "text/plain": "DM(\n[[00, 1, 00, 00], \n [00, -10, 9.81, -0], \n [00, 00, 00, 1], \n [00, -20, 39.24, -0]])"
     },
     "execution_count": 39,
     "metadata": {},
     "output_type": "execute_result"
    }
   ],
   "source": [
    "cs.Function('jacobian_x', [x, u], [j_x])(0, 0)"
   ],
   "metadata": {
    "collapsed": false
   }
  },
  {
   "cell_type": "code",
   "execution_count": 20,
   "outputs": [
    {
     "ename": "TypeError",
     "evalue": "'SX' object is not callable",
     "output_type": "error",
     "traceback": [
      "\u001B[1;31m---------------------------------------------------------------------------\u001B[0m",
      "\u001B[1;31mTypeError\u001B[0m                                 Traceback (most recent call last)",
      "Cell \u001B[1;32mIn[20], line 1\u001B[0m\n\u001B[1;32m----> 1\u001B[0m \u001B[43mj\u001B[49m\u001B[43m(\u001B[49m\u001B[38;5;241;43m3\u001B[39;49m\u001B[43m)\u001B[49m\n",
      "\u001B[1;31mTypeError\u001B[0m: 'SX' object is not callable"
     ]
    }
   ],
   "source": [],
   "metadata": {
    "collapsed": false
   }
  },
  {
   "cell_type": "code",
   "execution_count": null,
   "outputs": [],
   "source": [],
   "metadata": {
    "collapsed": false
   }
  }
 ],
 "metadata": {
  "kernelspec": {
   "display_name": "Python 3",
   "language": "python",
   "name": "python3"
  },
  "language_info": {
   "codemirror_mode": {
    "name": "ipython",
    "version": 2
   },
   "file_extension": ".py",
   "mimetype": "text/x-python",
   "name": "python",
   "nbconvert_exporter": "python",
   "pygments_lexer": "ipython2",
   "version": "2.7.6"
  }
 },
 "nbformat": 4,
 "nbformat_minor": 0
}
