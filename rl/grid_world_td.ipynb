{
 "cells": [
  {
   "cell_type": "code",
   "execution_count": null,
   "outputs": [],
   "source": [
    "from envs.discrete_MDP import DiscreteMDP\n",
    "from dp import policy_evaluation\n",
    "from policy import DiscretePolicy\n",
    "import numpy as np"
   ],
   "metadata": {
    "collapsed": false
   }
  },
  {
   "cell_type": "code",
   "execution_count": null,
   "outputs": [],
   "source": [
    "# creating 4x4 gridworld\n",
    "# actions: 0 - up, 1 - right, 2 - down, 3 - left\n",
    "\n",
    "p0 = np.ones(16)\n",
    "p0[0] = 0  # terminal state\n",
    "p0[15] = 0 # terminal state\n",
    "p0 = p0 / p0.sum()\n",
    "\n",
    "p = np.zeros([16, 16, 4]) # 0 and 16 terminal states\n",
    "for s in range(1, 15):\n",
    "    if s - 4 < 0:\n",
    "        p[s, s, 0] = 1\n",
    "    else:\n",
    "        p[s - 4, s, 0] = 1\n",
    "\n",
    "    if s % 4 == 3:\n",
    "        p[s, s, 1] = 1\n",
    "    else:\n",
    "        p[s + 1, s, 1] = 1\n",
    "\n",
    "    if s + 4 > 15:\n",
    "        p[s, s, 2] = 1\n",
    "    else:\n",
    "        p[s + 4, s, 2] = 1\n",
    "\n",
    "    if s % 4 == 0:\n",
    "        p[s, s, 3] = 1\n",
    "    else:\n",
    "        p[s - 1, s, 3] = 1\n",
    "\n",
    "r = -np.ones([16, 16, 4]) # -1 for all transitions\n",
    "\n",
    "env = DiscreteMDP(p0, p, r)\n"
   ],
   "metadata": {
    "collapsed": false
   }
  },
  {
   "cell_type": "code",
   "execution_count": null,
   "outputs": [],
   "source": [
    "import numpy as np\n",
    "import matplotlib.pyplot as plt\n",
    "import matplotlib.patches as patches\n",
    "\n",
    "def plot_policy(policy: DiscretePolicy):\n",
    "    grid_array = policy.p.reshape(4, 4, 4)\n",
    "\n",
    "    n = grid_array.shape[0]\n",
    "\n",
    "    fig, ax = plt.subplots()\n",
    "\n",
    "    for i in range(n):\n",
    "        for j in range(n):\n",
    "            if (i == 0 and j == 3) or (i == 3 and j == 0):\n",
    "                ax.add_patch(patches.Rectangle((j, n - 1 - i), 1, 1, color='black'))\n",
    "            else:\n",
    "                for k in range(4):\n",
    "                    if grid_array[n-i-1, j, k] != 0:\n",
    "                        if k == 0:  # Arrow up\n",
    "                            arrow = patches.Arrow(j + 0.5, n - 1 - i + 0.5, 0, -0.3, width=0.2)\n",
    "                        elif k == 1:  # Arrow right\n",
    "                            arrow = patches.Arrow(j + 0.5, n - 1 - i + 0.5, 0.3, 0, width=0.2)\n",
    "                        elif k == 2:  # Arrow down\n",
    "                            arrow = patches.Arrow(j + 0.5, n - 1 - i + 0.5, 0, 0.3, width=0.2)\n",
    "                        elif k == 3:  # Arrow left\n",
    "                            arrow = patches.Arrow(j + 0.5, n - 1 - i + 0.5, -0.3, 0, width=0.2)\n",
    "\n",
    "                        ax.add_patch(arrow)\n",
    "\n",
    "    ax.set_xlim(0, n)\n",
    "    ax.set_ylim(0, n)\n",
    "    ax.set_aspect('equal')\n",
    "    ax.set_xticks(np.arange(n + 1))\n",
    "    ax.set_yticks(np.arange(n + 1))\n",
    "    ax.grid(True, which='both', color='black', linewidth=1.5, linestyle='-')\n",
    "    ax.invert_yaxis()  # This inverts the y-axis to make (0, 0) the left-top corner\n",
    "    ax.set_xticklabels([])\n",
    "    ax.set_yticklabels([])\n",
    "\n",
    "    plt.show()\n"
   ],
   "metadata": {
    "collapsed": false
   }
  },
  {
   "cell_type": "code",
   "execution_count": null,
   "outputs": [],
   "source": [
    "from td import td_prediction, sarsa, expected_sarsa, Q_learning\n",
    "\n",
    "# create equiprobable policy\n",
    "eq_policy = DiscretePolicy.from_env(env)\n",
    "eq_policy.p = np.ones([env.states_num, env.actions_num]) / env.actions_num"
   ],
   "metadata": {
    "collapsed": false
   }
  },
  {
   "cell_type": "code",
   "execution_count": null,
   "outputs": [],
   "source": [
    "td_prediction(env, eq_policy, 10000, 0.4, 1)"
   ],
   "metadata": {
    "collapsed": false
   }
  },
  {
   "cell_type": "code",
   "execution_count": null,
   "outputs": [],
   "source": [
    "sarsa_policy, sarsa_Q = sarsa(env, 1000, 0.5)\n",
    "sarsa_policy.p"
   ],
   "metadata": {
    "collapsed": false
   }
  },
  {
   "cell_type": "code",
   "execution_count": null,
   "outputs": [],
   "source": [
    "sarsa_Q"
   ],
   "metadata": {
    "collapsed": false
   }
  },
  {
   "cell_type": "code",
   "execution_count": null,
   "outputs": [],
   "source": [
    "from mc import make_greedy_policy\n",
    "plot_policy(make_greedy_policy(sarsa_Q))"
   ],
   "metadata": {
    "collapsed": false
   }
  },
  {
   "cell_type": "code",
   "execution_count": null,
   "outputs": [],
   "source": [
    "Q_learning_policy, Q_learning_Q = Q_learning(env, 1000, 0.5)\n",
    "Q_learning_Q"
   ],
   "metadata": {
    "collapsed": false
   }
  },
  {
   "cell_type": "code",
   "execution_count": null,
   "outputs": [],
   "source": [
    "plot_policy(make_greedy_policy(Q_learning_Q))"
   ],
   "metadata": {
    "collapsed": false
   }
  },
  {
   "cell_type": "code",
   "execution_count": null,
   "outputs": [],
   "source": [
    "expected_sarsa_policy, expected_sarsa_Q = expected_sarsa(env, 1000, 0.5)\n",
    "expected_sarsa_Q"
   ],
   "metadata": {
    "collapsed": false
   }
  },
  {
   "cell_type": "code",
   "execution_count": null,
   "outputs": [],
   "source": [
    "plot_policy(make_greedy_policy(expected_sarsa_Q))\n"
   ],
   "metadata": {
    "collapsed": false
   }
  },
  {
   "cell_type": "code",
   "execution_count": 30,
   "outputs": [
    {
     "data": {
      "text/plain": "array([[ 0.        ,  0.        ,  0.        ,  0.        ],\n       [-1.87499994, -3.29821757, -3.79034424, -1.        ],\n       [-2.77734375, -5.73562732, -5.79591095, -2.        ],\n       [-6.22231799, -4.85756715, -3.0000097 , -3.86266695],\n       [-1.        , -3.11611938, -2.17773438, -1.98239136],\n       [-2.        , -4.36567378, -3.81890166, -1.99996033],\n       [-3.72518803, -3.86743355, -3.00012196, -3.8685939 ],\n       [-4.39903005, -4.02183723, -2.        , -3.77197266],\n       [-2.        , -4.3514334 , -1.953125  , -3.9045105 ],\n       [-3.88058068, -3.90283966, -3.00334688, -4.18869019],\n       [-3.98080444, -2.40209961, -2.        , -3.80374908],\n       [-3.64738464, -2.32714844, -1.        , -4.40899459],\n       [-5.46642455, -4.73075214, -4.55496769, -5.15438858],\n       [-4.1253577 , -2.        , -3.34509277, -4.26971436],\n       [-3.02081202, -1.        , -1.97802639, -3.01526267],\n       [ 0.        ,  0.        ,  0.        ,  0.        ]])"
     },
     "execution_count": 30,
     "metadata": {},
     "output_type": "execute_result"
    }
   ],
   "source": [
    "from td import double_Q_learning\n",
    "double_Q_learning_policy, double_Q_learning_Q = double_Q_learning(env, 1000, 0.5)\n",
    "double_Q_learning_Q"
   ],
   "metadata": {
    "collapsed": false
   }
  },
  {
   "cell_type": "code",
   "execution_count": 31,
   "outputs": [
    {
     "data": {
      "text/plain": "<Figure size 640x480 with 1 Axes>",
      "image/png": "[encoded data removed]"
     },
     "metadata": {},
     "output_type": "display_data"
    }
   ],
   "source": [
    "plot_policy(make_greedy_policy(double_Q_learning_Q))"
   ],
   "metadata": {
    "collapsed": false
   }
  },
  {
   "cell_type": "code",
   "execution_count": null,
   "outputs": [],
   "source": [],
   "metadata": {
    "collapsed": false
   }
  }
 ],
 "metadata": {
  "kernelspec": {
   "display_name": "Python 3",
   "language": "python",
   "name": "python3"
  },
  "language_info": {
   "codemirror_mode": {
    "name": "ipython",
    "version": 2
   },
   "file_extension": ".py",
   "mimetype": "text/x-python",
   "name": "python",
   "nbconvert_exporter": "python",
   "pygments_lexer": "ipython2",
   "version": "2.7.6"
  }
 },
 "nbformat": 4,
 "nbformat_minor": 0
}
