{
 "cells": [
  {
   "cell_type": "code",
   "execution_count": 1,
   "outputs": [],
   "source": [
    "from envs.discrete_MDP import DiscreteMDP\n",
    "from dp import policy_evaluation\n",
    "from policy import DiscretePolicy\n",
    "import numpy as np"
   ],
   "metadata": {
    "collapsed": false
   }
  },
  {
   "cell_type": "code",
   "execution_count": 2,
   "outputs": [],
   "source": [
    "# creating 4x4 gridworld\n",
    "# actions: 0 - up, 1 - right, 2 - down, 3 - left\n",
    "\n",
    "p0 = np.ones(16)\n",
    "p0[0] = 0  # terminal state\n",
    "p0[15] = 0 # terminal state\n",
    "p0 = p0 / p0.sum()\n",
    "\n",
    "p = np.zeros([16, 16, 4]) # 0 and 16 terminal states\n",
    "for s in range(1, 15):\n",
    "    if s - 4 < 0:\n",
    "        p[s, s, 0] = 1\n",
    "    else:\n",
    "        p[s - 4, s, 0] = 1\n",
    "\n",
    "    if s % 4 == 3:\n",
    "        p[s, s, 1] = 1\n",
    "    else:\n",
    "        p[s + 1, s, 1] = 1\n",
    "\n",
    "    if s + 4 > 15:\n",
    "        p[s, s, 2] = 1\n",
    "    else:\n",
    "        p[s + 4, s, 2] = 1\n",
    "\n",
    "    if s % 4 == 0:\n",
    "        p[s, s, 3] = 1\n",
    "    else:\n",
    "        p[s - 1, s, 3] = 1\n",
    "\n",
    "r = -np.ones([16, 16, 4]) # -1 for all transitions\n",
    "\n",
    "env = DiscreteMDP(p0, p, r)\n"
   ],
   "metadata": {
    "collapsed": false
   }
  },
  {
   "cell_type": "code",
   "execution_count": 3,
   "outputs": [],
   "source": [
    "import numpy as np\n",
    "import matplotlib.pyplot as plt\n",
    "import matplotlib.patches as patches\n",
    "\n",
    "def plot_policy(policy: DiscretePolicy):\n",
    "    grid_array = policy.p.reshape(4, 4, 4)\n",
    "\n",
    "    n = grid_array.shape[0]\n",
    "\n",
    "    fig, ax = plt.subplots()\n",
    "\n",
    "    for i in range(n):\n",
    "        for j in range(n):\n",
    "            if (i == 0 and j == 3) or (i == 3 and j == 0):\n",
    "                ax.add_patch(patches.Rectangle((j, n - 1 - i), 1, 1, color='black'))\n",
    "            else:\n",
    "                for k in range(4):\n",
    "                    if grid_array[n-i-1, j, k] != 0:\n",
    "                        if k == 0:  # Arrow up\n",
    "                            arrow = patches.Arrow(j + 0.5, n - 1 - i + 0.5, 0, -0.3, width=0.2)\n",
    "                        elif k == 1:  # Arrow right\n",
    "                            arrow = patches.Arrow(j + 0.5, n - 1 - i + 0.5, 0.3, 0, width=0.2)\n",
    "                        elif k == 2:  # Arrow down\n",
    "                            arrow = patches.Arrow(j + 0.5, n - 1 - i + 0.5, 0, 0.3, width=0.2)\n",
    "                        elif k == 3:  # Arrow left\n",
    "                            arrow = patches.Arrow(j + 0.5, n - 1 - i + 0.5, -0.3, 0, width=0.2)\n",
    "\n",
    "                        ax.add_patch(arrow)\n",
    "\n",
    "    ax.set_xlim(0, n)\n",
    "    ax.set_ylim(0, n)\n",
    "    ax.set_aspect('equal')\n",
    "    ax.set_xticks(np.arange(n + 1))\n",
    "    ax.set_yticks(np.arange(n + 1))\n",
    "    ax.grid(True, which='both', color='black', linewidth=1.5, linestyle='-')\n",
    "    ax.invert_yaxis()  # This inverts the y-axis to make (0, 0) the left-top corner\n",
    "    ax.set_xticklabels([])\n",
    "    ax.set_yticklabels([])\n",
    "\n",
    "    plt.show()\n"
   ],
   "metadata": {
    "collapsed": false
   }
  },
  {
   "cell_type": "code",
   "execution_count": 4,
   "outputs": [],
   "source": [
    "from td import td_prediction, sarsa, expected_sarsa, Q_learning\n",
    "\n",
    "# create equiprobable policy\n",
    "eq_policy = DiscretePolicy.from_env(env)\n",
    "eq_policy.p = np.ones([env.states_num, env.actions_num]) / env.actions_num"
   ],
   "metadata": {
    "collapsed": false
   }
  },
  {
   "cell_type": "code",
   "execution_count": 5,
   "outputs": [
    {
     "data": {
      "text/plain": "array([  0.        , -12.96297732, -22.21513399, -18.14481527,\n       -17.55189855, -18.88155111, -16.79085365, -16.89488697,\n       -19.04497387, -18.7151498 , -17.77425306,  -9.704905  ,\n       -19.54452291, -18.63781386, -17.12375315,   0.        ])"
     },
     "execution_count": 5,
     "metadata": {},
     "output_type": "execute_result"
    }
   ],
   "source": [
    "td_prediction(env, eq_policy, 10000, 0.4, 1)"
   ],
   "metadata": {
    "collapsed": false
   }
  },
  {
   "cell_type": "code",
   "execution_count": 6,
   "outputs": [
    {
     "data": {
      "text/plain": "array([[0.925, 0.025, 0.025, 0.025],\n       [0.025, 0.025, 0.025, 0.925],\n       [0.025, 0.025, 0.025, 0.925],\n       [0.025, 0.025, 0.925, 0.025],\n       [0.925, 0.025, 0.025, 0.025],\n       [0.925, 0.025, 0.025, 0.025],\n       [0.025, 0.025, 0.025, 0.925],\n       [0.025, 0.025, 0.925, 0.025],\n       [0.925, 0.025, 0.025, 0.025],\n       [0.025, 0.025, 0.925, 0.025],\n       [0.025, 0.025, 0.925, 0.025],\n       [0.025, 0.025, 0.925, 0.025],\n       [0.925, 0.025, 0.025, 0.025],\n       [0.025, 0.925, 0.025, 0.025],\n       [0.025, 0.925, 0.025, 0.025],\n       [0.925, 0.025, 0.025, 0.025]])"
     },
     "execution_count": 6,
     "metadata": {},
     "output_type": "execute_result"
    }
   ],
   "source": [
    "sarsa_policy, sarsa_Q = sarsa(env, 1000, 0.5)\n",
    "sarsa_policy.p"
   ],
   "metadata": {
    "collapsed": false
   }
  },
  {
   "cell_type": "code",
   "execution_count": 7,
   "outputs": [
    {
     "data": {
      "text/plain": "array([[ 0.        ,  0.        ,  0.        ,  0.        ],\n       [-1.98431396, -3.16237473, -3.04292555, -1.        ],\n       [-3.38856844, -4.16883379, -4.29220305, -2.48856254],\n       [-4.78654671, -4.49180441, -3.04981083, -4.95668796],\n       [-1.        , -3.27637125, -3.1102053 , -2.1875    ],\n       [-2.27642475, -4.2315808 , -3.78064869, -3.10895929],\n       [-4.55823094, -4.47108593, -4.14358618, -4.07398385],\n       [-4.23559749, -3.26735596, -2.00108054, -3.99989609],\n       [-2.00001947, -3.8768743 , -3.83819754, -3.53435616],\n       [-4.28975904, -4.12372291, -3.13235262, -3.30747575],\n       [-4.22749356, -3.37384474, -2.07824161, -4.13198419],\n       [-3.86706906, -1.99902344, -1.        , -3.14288283],\n       [-3.36329886, -4.18719798, -3.73598906, -4.0227799 ],\n       [-4.03782664, -2.59592173, -4.08731357, -4.35204695],\n       [-3.8777632 , -1.        , -2.33251056, -3.76174887],\n       [ 0.        ,  0.        ,  0.        ,  0.        ]])"
     },
     "execution_count": 7,
     "metadata": {},
     "output_type": "execute_result"
    }
   ],
   "source": [
    "sarsa_Q"
   ],
   "metadata": {
    "collapsed": false
   }
  },
  {
   "cell_type": "code",
   "execution_count": 8,
   "outputs": [
    {
     "data": {
      "text/plain": "<Figure size 640x480 with 1 Axes>",
      "image/png": "[encoded data removed]"
     },
     "metadata": {},
     "output_type": "display_data"
    }
   ],
   "source": [
    "from mc import make_greedy_policy\n",
    "plot_policy(make_greedy_policy(sarsa_Q))"
   ],
   "metadata": {
    "collapsed": false
   }
  },
  {
   "cell_type": "code",
   "execution_count": 9,
   "outputs": [
    {
     "data": {
      "text/plain": "array([[ 0.        ,  0.        ,  0.        ,  0.        ],\n       [-1.99951172, -2.99609375, -2.9619015 , -1.        ],\n       [-2.99594115, -3.47192383, -3.93026273, -2.        ],\n       [-3.60112363, -3.86014538, -3.        , -3.        ],\n       [-1.        , -2.99908941, -2.96875   , -1.99200439],\n       [-2.        , -3.87708861, -3.88188594, -2.        ],\n       [-2.99999977, -2.99999978, -2.99999974, -2.99999982],\n       [-3.92393737, -2.74717712, -2.        , -3.01556973],\n       [-2.        , -3.89676389, -3.9789846 , -2.98651123],\n       [-2.99999994, -2.99999991, -2.9999999 , -2.9999999 ],\n       [-3.7511904 , -2.        , -2.        , -3.72954248],\n       [-2.9960937 , -1.99414062, -1.        , -2.99871813],\n       [-3.        , -3.        , -3.82671725, -3.88420408],\n       [-3.52337656, -2.        , -2.99177548, -3.69333734],\n       [-2.97888171, -1.        , -1.98999023, -2.94921767],\n       [ 0.        ,  0.        ,  0.        ,  0.        ]])"
     },
     "execution_count": 9,
     "metadata": {},
     "output_type": "execute_result"
    }
   ],
   "source": [
    "Q_learning_policy, Q_learning_Q = Q_learning(env, 1000, 0.5)\n",
    "Q_learning_Q"
   ],
   "metadata": {
    "collapsed": false
   }
  },
  {
   "cell_type": "code",
   "execution_count": 10,
   "outputs": [
    {
     "data": {
      "text/plain": "<Figure size 640x480 with 1 Axes>",
      "image/png": "[encoded data removed]"
     },
     "metadata": {},
     "output_type": "display_data"
    }
   ],
   "source": [
    "plot_policy(make_greedy_policy(Q_learning_Q))"
   ],
   "metadata": {
    "collapsed": false
   }
  },
  {
   "cell_type": "code",
   "execution_count": 11,
   "outputs": [
    {
     "data": {
      "text/plain": "array([[ 0.        ,  0.        ,  0.        ,  0.        ],\n       [-2.13077269, -3.23786652, -3.19939244, -1.        ],\n       [-3.16560393, -3.30047533, -4.07529529, -2.13917164],\n       [-4.09427265, -3.77273643, -3.24044266, -3.23984183],\n       [-1.        , -3.20799002, -3.20716637, -2.12104023],\n       [-2.13809261, -4.15584604, -4.13808775, -2.13805171],\n       [-3.23370754, -3.23639694, -3.22944028, -3.22802927],\n       [-3.81158096, -3.10848956, -2.13736369, -3.98513202],\n       [-2.13826919, -4.17755662, -3.9953661 , -2.94274789],\n       [-3.23373823, -3.23166748, -3.24005416, -3.23974002],\n       [-4.17713987, -2.13701512, -2.13676027, -3.91132457],\n       [-3.1907628 , -2.13187502, -1.        , -3.18694498],\n       [-3.24780968, -3.25138316, -3.9038083 , -3.28284175],\n       [-3.94956387, -2.13677947, -3.11807283, -4.09733041],\n       [-3.12937926, -1.        , -2.12926767, -3.21255946],\n       [ 0.        ,  0.        ,  0.        ,  0.        ]])"
     },
     "execution_count": 11,
     "metadata": {},
     "output_type": "execute_result"
    }
   ],
   "source": [
    "expected_sarsa_policy, expected_sarsa_Q = expected_sarsa(env, 1000, 0.5)\n",
    "expected_sarsa_Q"
   ],
   "metadata": {
    "collapsed": false
   }
  },
  {
   "cell_type": "code",
   "execution_count": 12,
   "outputs": [
    {
     "data": {
      "text/plain": "<Figure size 640x480 with 1 Axes>",
      "image/png": "[encoded data removed]"
     },
     "metadata": {},
     "output_type": "display_data"
    }
   ],
   "source": [
    "plot_policy(make_greedy_policy(expected_sarsa_Q))\n"
   ],
   "metadata": {
    "collapsed": false
   }
  },
  {
   "cell_type": "code",
   "execution_count": 13,
   "outputs": [
    {
     "data": {
      "text/plain": "array([[ 0.        ,  0.        ,  0.        ,  0.        ],\n       [-2.0045166 , -2.87117167, -2.5327988 , -1.        ],\n       [-3.07080078, -4.35122293, -3.29589844, -2.00000004],\n       [-3.85609449, -4.23439446, -3.        , -4.26287079],\n       [-1.        , -2.546875  , -2.48095703, -1.89538574],\n       [-2.        , -3.13055228, -3.82874298, -3.05725098],\n       [-3.28747559, -3.43159676, -3.        , -3.17539401],\n       [-4.00296979, -2.86920166, -2.        , -3.49682778],\n       [-2.        , -4.4714241 , -2.59777832, -3.76318359],\n       [-3.79520798, -3.        , -2.9440919 , -3.31689453],\n       [-3.99138887, -2.        , -3.02563477, -4.03482056],\n       [-2.98642785, -1.99192047, -1.        , -2.9981333 ],\n       [-3.00000001, -3.67674065, -4.60198975, -4.6352328 ],\n       [-4.36690521, -3.07568359, -3.18844795, -4.03150737],\n       [-2.2265625 , -1.        ,  0.        , -3.26003192],\n       [ 0.        ,  0.        ,  0.        ,  0.        ]])"
     },
     "execution_count": 13,
     "metadata": {},
     "output_type": "execute_result"
    }
   ],
   "source": [
    "from td import double_Q_learning\n",
    "double_Q_learning_policy, double_Q_learning_Q = double_Q_learning(env, 1000, 0.5)\n",
    "double_Q_learning_Q"
   ],
   "metadata": {
    "collapsed": false
   }
  },
  {
   "cell_type": "code",
   "execution_count": 14,
   "outputs": [
    {
     "data": {
      "text/plain": "<Figure size 640x480 with 1 Axes>",
      "image/png": "[encoded data removed]"
     },
     "metadata": {},
     "output_type": "display_data"
    }
   ],
   "source": [
    "plot_policy(make_greedy_policy(double_Q_learning_Q))"
   ],
   "metadata": {
    "collapsed": false
   }
  },
  {
   "cell_type": "code",
   "execution_count": 19,
   "outputs": [
    {
     "data": {
      "text/plain": "array([  0.        , -14.0757536 , -21.08010436, -26.5338097 ,\n       -12.5844822 , -19.66941083, -23.67633978, -25.91602959,\n       -20.21795288, -20.19258194, -21.11425471, -15.14629217,\n       -20.76450783, -20.63836259, -18.1952297 ,   0.        ])"
     },
     "execution_count": 19,
     "metadata": {},
     "output_type": "execute_result"
    }
   ],
   "source": [
    "from td import n_step_td_prediction\n",
    "np.random.seed(2)\n",
    "n_step_td_prediction(env, eq_policy, 1, 1000, 0.4, 1)\n"
   ],
   "metadata": {
    "collapsed": false
   }
  },
  {
   "cell_type": "code",
   "execution_count": 16,
   "outputs": [
    {
     "data": {
      "text/plain": "array([  0.        , -14.0757536 , -21.08010436, -26.5338097 ,\n       -12.5844822 , -19.66941083, -23.67633978, -25.91602959,\n       -20.21795288, -20.19258194, -21.11425471, -15.14629217,\n       -20.76450783, -20.63836259, -18.1952297 ,   0.        ])"
     },
     "execution_count": 16,
     "metadata": {},
     "output_type": "execute_result"
    }
   ],
   "source": [
    "np.random.seed(2)\n",
    "td_prediction(env, eq_policy, 1000, 0.4, 1)"
   ],
   "metadata": {
    "collapsed": false
   }
  },
  {
   "cell_type": "code",
   "execution_count": 16,
   "outputs": [],
   "source": [],
   "metadata": {
    "collapsed": false
   }
  }
 ],
 "metadata": {
  "kernelspec": {
   "display_name": "Python 3",
   "language": "python",
   "name": "python3"
  },
  "language_info": {
   "codemirror_mode": {
    "name": "ipython",
    "version": 2
   },
   "file_extension": ".py",
   "mimetype": "text/x-python",
   "name": "python",
   "nbconvert_exporter": "python",
   "pygments_lexer": "ipython2",
   "version": "2.7.6"
  }
 },
 "nbformat": 4,
 "nbformat_minor": 0
}
