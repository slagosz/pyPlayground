{
 "cells": [
  {
   "cell_type": "code",
   "execution_count": 25,
   "outputs": [],
   "source": [
    "from envs.discrete_MDP import DiscreteMDP\n",
    "from dp import policy_evaluation\n",
    "from policy import DiscretePolicy\n",
    "import numpy as np"
   ],
   "metadata": {
    "collapsed": false
   }
  },
  {
   "cell_type": "code",
   "execution_count": 26,
   "outputs": [],
   "source": [
    "# creating 4x4 gridworld\n",
    "# actions: 0 - up, 1 - right, 2 - down, 3 - left\n",
    "\n",
    "p0 = np.ones(16)\n",
    "p0[0] = 0  # terminal state\n",
    "p0[15] = 0 # terminal state\n",
    "p0 = p0 / p0.sum()\n",
    "\n",
    "p = np.zeros([16, 16, 4]) # 0 and 16 terminal states\n",
    "for s in range(1, 15):\n",
    "    if s - 4 < 0:\n",
    "        p[s, s, 0] = 1\n",
    "    else:\n",
    "        p[s - 4, s, 0] = 1\n",
    "\n",
    "    if s % 4 == 3:\n",
    "        p[s, s, 1] = 1\n",
    "    else:\n",
    "        p[s + 1, s, 1] = 1\n",
    "\n",
    "    if s + 4 > 15:\n",
    "        p[s, s, 2] = 1\n",
    "    else:\n",
    "        p[s + 4, s, 2] = 1\n",
    "\n",
    "    if s % 4 == 0:\n",
    "        p[s, s, 3] = 1\n",
    "    else:\n",
    "        p[s - 1, s, 3] = 1\n",
    "\n",
    "r = -np.ones([16, 16, 4]) # -1 for all transitions\n",
    "\n",
    "grid_env = DiscreteMDP(p0, p, r)\n"
   ],
   "metadata": {
    "collapsed": false
   }
  },
  {
   "cell_type": "code",
   "execution_count": 27,
   "outputs": [
    {
     "data": {
      "text/plain": "array([[0., 0., 0., 1.],\n       [1., 0., 0., 0.],\n       [0., 1., 0., 0.],\n       [0., 0., 0., 0.],\n       [0., 0., 0., 0.],\n       [0., 0., 1., 0.],\n       [0., 0., 0., 0.],\n       [0., 0., 0., 0.],\n       [0., 0., 0., 0.],\n       [0., 0., 0., 0.],\n       [0., 0., 0., 0.],\n       [0., 0., 0., 0.],\n       [0., 0., 0., 0.],\n       [0., 0., 0., 0.],\n       [0., 0., 0., 0.],\n       [0., 0., 0., 0.]])"
     },
     "execution_count": 3,
     "metadata": {},
     "output_type": "execute_result"
    },
    {
     "data": {
      "text/plain": "array([[0., 0., 0., 1.],\n       [1., 0., 0., 0.],\n       [0., 1., 0., 0.],\n       [0., 0., 0., 0.],\n       [0., 0., 0., 0.],\n       [0., 0., 1., 0.],\n       [0., 0., 0., 0.],\n       [0., 0., 0., 0.],\n       [0., 0., 0., 0.],\n       [0., 0., 0., 0.],\n       [0., 0., 0., 0.],\n       [0., 0., 0., 0.],\n       [0., 0., 0., 0.],\n       [0., 0., 0., 0.],\n       [0., 0., 0., 0.],\n       [0., 0., 0., 0.]])"
     },
     "execution_count": 27,
     "metadata": {},
     "output_type": "execute_result"
    }
   ],
   "source": [
    "p[:, 1, :]"
   ],
   "metadata": {
    "collapsed": false
   }
  },
  {
   "cell_type": "code",
   "execution_count": 28,
   "outputs": [
    {
     "data": {
      "text/plain": "array([[0.25, 0.25, 0.25, 0.25],\n       [0.25, 0.25, 0.25, 0.25],\n       [0.25, 0.25, 0.25, 0.25],\n       [0.25, 0.25, 0.25, 0.25],\n       [0.25, 0.25, 0.25, 0.25],\n       [0.25, 0.25, 0.25, 0.25],\n       [0.25, 0.25, 0.25, 0.25],\n       [0.25, 0.25, 0.25, 0.25],\n       [0.25, 0.25, 0.25, 0.25],\n       [0.25, 0.25, 0.25, 0.25],\n       [0.25, 0.25, 0.25, 0.25],\n       [0.25, 0.25, 0.25, 0.25],\n       [0.25, 0.25, 0.25, 0.25],\n       [0.25, 0.25, 0.25, 0.25],\n       [0.25, 0.25, 0.25, 0.25],\n       [0.25, 0.25, 0.25, 0.25]])"
     },
     "execution_count": 4,
     "metadata": {},
     "output_type": "execute_result"
    },
    {
     "data": {
      "text/plain": "array([[0.25, 0.25, 0.25, 0.25],\n       [0.25, 0.25, 0.25, 0.25],\n       [0.25, 0.25, 0.25, 0.25],\n       [0.25, 0.25, 0.25, 0.25],\n       [0.25, 0.25, 0.25, 0.25],\n       [0.25, 0.25, 0.25, 0.25],\n       [0.25, 0.25, 0.25, 0.25],\n       [0.25, 0.25, 0.25, 0.25],\n       [0.25, 0.25, 0.25, 0.25],\n       [0.25, 0.25, 0.25, 0.25],\n       [0.25, 0.25, 0.25, 0.25],\n       [0.25, 0.25, 0.25, 0.25],\n       [0.25, 0.25, 0.25, 0.25],\n       [0.25, 0.25, 0.25, 0.25],\n       [0.25, 0.25, 0.25, 0.25],\n       [0.25, 0.25, 0.25, 0.25]])"
     },
     "execution_count": 28,
     "metadata": {},
     "output_type": "execute_result"
    }
   ],
   "source": [
    "# create equiprobable policy\n",
    "eq_policy = DiscretePolicy.from_env(grid_env)\n",
    "eq_policy.p = np.ones([grid_env.states_num, grid_env.actions_num]) / grid_env.actions_num\n",
    "eq_policy.p"
   ],
   "metadata": {
    "collapsed": false
   }
  },
  {
   "cell_type": "code",
   "execution_count": 29,
   "outputs": [
    {
     "data": {
      "text/plain": "array([  0., -14., -20., -22., -14., -18., -20., -20., -20., -20., -18.,\n       -14., -22., -20., -14.,   0.])"
     },
     "execution_count": 5,
     "metadata": {},
     "output_type": "execute_result"
    },
    {
     "data": {
      "text/plain": "array([  0., -14., -20., -22., -14., -18., -20., -20., -20., -20., -18.,\n       -14., -22., -20., -14.,   0.])"
     },
     "execution_count": 29,
     "metadata": {},
     "output_type": "execute_result"
    }
   ],
   "source": [
    "V = policy_evaluation(eq_policy, grid_env, 0.001).round(1)\n",
    "V"
   ],
   "metadata": {
    "collapsed": false
   }
  },
  {
   "cell_type": "code",
   "execution_count": 30,
   "outputs": [
    {
     "data": {
      "text/plain": "array([[  0.,   0.,   0.,   0.],\n       [-15., -21., -19.,  -1.],\n       [-21., -23., -21., -15.],\n       [-23., -23., -21., -21.],\n       [ -1., -19., -21., -15.],\n       [-15., -21., -21., -15.],\n       [-21., -21., -19., -19.],\n       [-23., -21., -15., -21.],\n       [-15., -21., -23., -21.],\n       [-19., -19., -21., -21.],\n       [-21., -15., -15., -21.],\n       [-21., -15.,  -1., -19.],\n       [-21., -21., -23., -23.],\n       [-21., -15., -21., -23.],\n       [-19.,  -1., -15., -21.],\n       [  0.,   0.,   0.,   0.]])"
     },
     "execution_count": 6,
     "metadata": {},
     "output_type": "execute_result"
    },
    {
     "data": {
      "text/plain": "array([[  0.,   0.,   0.,   0.],\n       [-15., -21., -19.,  -1.],\n       [-21., -23., -21., -15.],\n       [-23., -23., -21., -21.],\n       [ -1., -19., -21., -15.],\n       [-15., -21., -21., -15.],\n       [-21., -21., -19., -19.],\n       [-23., -21., -15., -21.],\n       [-15., -21., -23., -21.],\n       [-19., -19., -21., -21.],\n       [-21., -15., -15., -21.],\n       [-21., -15.,  -1., -19.],\n       [-21., -21., -23., -23.],\n       [-21., -15., -21., -23.],\n       [-19.,  -1., -15., -21.],\n       [  0.,   0.,   0.,   0.]])"
     },
     "execution_count": 30,
     "metadata": {},
     "output_type": "execute_result"
    }
   ],
   "source": [
    "# calculate Q function\n",
    "#Q[i, j] = sum_{new_s} p(new_s, i, j) (R[new_s, i, j] + V[new_s])\n",
    "\n",
    "Q = (grid_env.p.T * V).T.sum(0) + (grid_env.r * grid_env.p).sum(0)\n",
    "Q = ((grid_env.p.T * V).T + grid_env.r * grid_env.p).sum(0)\n",
    "Q"
   ],
   "metadata": {
    "collapsed": false
   }
  },
  {
   "cell_type": "code",
   "execution_count": 31,
   "outputs": [
    {
     "data": {
      "text/plain": "array([  0., -14., -20., -22., -14., -18., -20., -20., -20., -20., -18.,\n       -14., -22., -20., -14.,   0.])"
     },
     "execution_count": 7,
     "metadata": {},
     "output_type": "execute_result"
    },
    {
     "data": {
      "text/plain": "array([  0., -14., -20., -22., -14., -18., -20., -20., -20., -20., -18.,\n       -14., -22., -20., -14.,   0.])"
     },
     "execution_count": 31,
     "metadata": {},
     "output_type": "execute_result"
    }
   ],
   "source": [
    "from dp import Q2V, make_greedy_policy, policy_iteration\n",
    "V = Q2V(Q, eq_policy)\n",
    "V"
   ],
   "metadata": {
    "collapsed": false
   }
  },
  {
   "cell_type": "code",
   "execution_count": 32,
   "outputs": [
    {
     "data": {
      "text/plain": "array([[1., 0., 0., 0.],\n       [0., 0., 0., 1.],\n       [0., 0., 0., 1.],\n       [0., 0., 1., 0.],\n       [1., 0., 0., 0.],\n       [1., 0., 0., 0.],\n       [0., 0., 1., 0.],\n       [0., 0., 1., 0.],\n       [1., 0., 0., 0.],\n       [1., 0., 0., 0.],\n       [0., 1., 0., 0.],\n       [0., 0., 1., 0.],\n       [1., 0., 0., 0.],\n       [0., 1., 0., 0.],\n       [0., 1., 0., 0.],\n       [1., 0., 0., 0.]])"
     },
     "execution_count": 8,
     "metadata": {},
     "output_type": "execute_result"
    },
    {
     "data": {
      "text/plain": "array([[1., 0., 0., 0.],\n       [0., 0., 0., 1.],\n       [0., 0., 0., 1.],\n       [0., 0., 1., 0.],\n       [1., 0., 0., 0.],\n       [1., 0., 0., 0.],\n       [0., 0., 1., 0.],\n       [0., 0., 1., 0.],\n       [1., 0., 0., 0.],\n       [1., 0., 0., 0.],\n       [0., 1., 0., 0.],\n       [0., 0., 1., 0.],\n       [1., 0., 0., 0.],\n       [0., 1., 0., 0.],\n       [0., 1., 0., 0.],\n       [1., 0., 0., 0.]])"
     },
     "execution_count": 32,
     "metadata": {},
     "output_type": "execute_result"
    }
   ],
   "source": [
    "greedy_policy = make_greedy_policy(Q)\n",
    "greedy_policy.p"
   ],
   "metadata": {
    "collapsed": false
   }
  },
  {
   "cell_type": "code",
   "execution_count": 33,
   "outputs": [
    {
     "data": {
      "text/plain": "array([[1., 0., 0., 0.],\n       [0., 0., 0., 1.],\n       [0., 0., 0., 1.],\n       [0., 0., 1., 0.],\n       [1., 0., 0., 0.],\n       [1., 0., 0., 0.],\n       [1., 0., 0., 0.],\n       [0., 0., 1., 0.],\n       [1., 0., 0., 0.],\n       [1., 0., 0., 0.],\n       [0., 1., 0., 0.],\n       [0., 0., 1., 0.],\n       [1., 0., 0., 0.],\n       [0., 1., 0., 0.],\n       [0., 1., 0., 0.],\n       [1., 0., 0., 0.]])"
     },
     "execution_count": 9,
     "metadata": {},
     "output_type": "execute_result"
    },
    {
     "data": {
      "text/plain": "array([[1., 0., 0., 0.],\n       [0., 0., 0., 1.],\n       [0., 0., 0., 1.],\n       [0., 0., 1., 0.],\n       [1., 0., 0., 0.],\n       [1., 0., 0., 0.],\n       [1., 0., 0., 0.],\n       [0., 0., 1., 0.],\n       [1., 0., 0., 0.],\n       [1., 0., 0., 0.],\n       [0., 1., 0., 0.],\n       [0., 0., 1., 0.],\n       [1., 0., 0., 0.],\n       [0., 1., 0., 0.],\n       [0., 1., 0., 0.],\n       [1., 0., 0., 0.]])"
     },
     "execution_count": 33,
     "metadata": {},
     "output_type": "execute_result"
    }
   ],
   "source": [
    "politer_policy = policy_iteration(grid_env, 0.1, 100, 0.99)\n",
    "politer_policy.p"
   ],
   "metadata": {
    "collapsed": false
   }
  },
  {
   "cell_type": "code",
   "execution_count": 34,
   "outputs": [],
   "source": [
    "import numpy as np\n",
    "import matplotlib.pyplot as plt\n",
    "import matplotlib.patches as patches\n",
    "\n",
    "def plot_policy(policy: DiscretePolicy):\n",
    "    grid_array = policy.p.reshape(4, 4, 4)\n",
    "\n",
    "    n = grid_array.shape[0]\n",
    "\n",
    "    fig, ax = plt.subplots()\n",
    "\n",
    "    for i in range(n):\n",
    "        for j in range(n):\n",
    "            if (i == 0 and j == 3) or (i == 3 and j == 0):\n",
    "                ax.add_patch(patches.Rectangle((j, n - 1 - i), 1, 1, color='black'))\n",
    "            else:\n",
    "                for k in range(4):\n",
    "                    if grid_array[n-i-1, j, k] != 0:\n",
    "                        if k == 0:  # Arrow up\n",
    "                            arrow = patches.Arrow(j + 0.5, n - 1 - i + 0.5, 0, -0.3, width=0.2)\n",
    "                        elif k == 1:  # Arrow right\n",
    "                            arrow = patches.Arrow(j + 0.5, n - 1 - i + 0.5, 0.3, 0, width=0.2)\n",
    "                        elif k == 2:  # Arrow down\n",
    "                            arrow = patches.Arrow(j + 0.5, n - 1 - i + 0.5, 0, 0.3, width=0.2)\n",
    "                        elif k == 3:  # Arrow left\n",
    "                            arrow = patches.Arrow(j + 0.5, n - 1 - i + 0.5, -0.3, 0, width=0.2)\n",
    "\n",
    "                        ax.add_patch(arrow)\n",
    "\n",
    "    ax.set_xlim(0, n)\n",
    "    ax.set_ylim(0, n)\n",
    "    ax.set_aspect('equal')\n",
    "    ax.set_xticks(np.arange(n + 1))\n",
    "    ax.set_yticks(np.arange(n + 1))\n",
    "    ax.grid(True, which='both', color='black', linewidth=1.5, linestyle='-')\n",
    "    ax.invert_yaxis()  # This inverts the y-axis to make (0, 0) the left-top corner\n",
    "    ax.set_xticklabels([])\n",
    "    ax.set_yticklabels([])\n",
    "\n",
    "    plt.show()\n"
   ],
   "metadata": {
    "collapsed": false
   }
  },
  {
   "cell_type": "code",
   "execution_count": 35,
   "outputs": [
    {
     "data": {
      "text/plain": "<Figure size 640x480 with 1 Axes>",
      "image/png": "[encoded data removed]"
     },
     "metadata": {},
     "output_type": "display_data"
    },
    {
     "data": {
      "text/plain": "<Figure size 640x480 with 1 Axes>",
      "image/png": "[encoded data removed]"
     },
     "metadata": {},
     "output_type": "display_data"
    }
   ],
   "source": [
    "plot_policy(politer_policy)"
   ],
   "metadata": {
    "collapsed": false
   }
  },
  {
   "cell_type": "code",
   "execution_count": 36,
   "outputs": [
    {
     "data": {
      "text/plain": "<Figure size 640x480 with 1 Axes>",
      "image/png": "[encoded data removed]"
     },
     "metadata": {},
     "output_type": "display_data"
    },
    {
     "data": {
      "text/plain": "<Figure size 640x480 with 1 Axes>",
      "image/png": "[encoded data removed]"
     },
     "metadata": {},
     "output_type": "display_data"
    }
   ],
   "source": [
    "plot_policy(eq_policy)\n"
   ],
   "metadata": {
    "collapsed": false
   }
  },
  {
   "cell_type": "code",
   "execution_count": 37,
   "outputs": [
    {
     "data": {
      "text/plain": "<Figure size 640x480 with 1 Axes>",
      "image/png": "[encoded data removed]"
     },
     "metadata": {},
     "output_type": "display_data"
    },
    {
     "data": {
      "text/plain": "<Figure size 640x480 with 1 Axes>",
      "image/png": "[encoded data removed]"
     },
     "metadata": {},
     "output_type": "display_data"
    }
   ],
   "source": [
    "from dp import value_iteration\n",
    "valiter_policy = value_iteration(grid_env, 0.1, 0.99)\n",
    "\n",
    "plot_policy(valiter_policy)"
   ],
   "metadata": {
    "collapsed": false
   }
  },
  {
   "cell_type": "code",
   "execution_count": 38,
   "outputs": [
    {
     "name": "stderr",
     "output_type": "stream",
     "text": [
      "C:\\Users\\slago\\PycharmProjects\\pyPlayground\\rl\\mc.py:60: RuntimeWarning: invalid value encountered in divide\n",
      "  V = returns / n_visits\n",
      "C:\\Users\\slago\\PycharmProjects\\pyPlayground\\rl\\mc.py:81: RuntimeWarning: invalid value encountered in divide\n",
      "  V = returns / n_visits\n"
     ]
    },
    {
     "ename": "FloatingPointError",
     "evalue": "invalid value encountered in divide",
     "output_type": "error",
     "traceback": [
      "\u001B[1;31m---------------------------------------------------------------------------\u001B[0m",
      "\u001B[1;31mFloatingPointError\u001B[0m                        Traceback (most recent call last)",
      "Cell \u001B[1;32mIn[38], line 3\u001B[0m\n\u001B[0;32m      1\u001B[0m \u001B[38;5;28;01mfrom\u001B[39;00m \u001B[38;5;21;01mmc\u001B[39;00m \u001B[38;5;28;01mimport\u001B[39;00m mc_first_visit_policy_eval, mc_every_visit_policy_eval\n\u001B[1;32m----> 3\u001B[0m val_mc_first_visit \u001B[38;5;241m=\u001B[39m \u001B[43mmc_first_visit_policy_eval\u001B[49m\u001B[43m(\u001B[49m\u001B[43mgrid_env\u001B[49m\u001B[43m,\u001B[49m\u001B[43m \u001B[49m\u001B[43mvaliter_policy\u001B[49m\u001B[43m,\u001B[49m\u001B[43m \u001B[49m\u001B[38;5;241;43m10000\u001B[39;49m\u001B[43m,\u001B[49m\u001B[43m \u001B[49m\u001B[38;5;241;43m0.99\u001B[39;49m\u001B[43m)\u001B[49m\n\u001B[0;32m      4\u001B[0m val_mc_every_visit \u001B[38;5;241m=\u001B[39m mc_every_visit_policy_eval(grid_env, valiter_policy, \u001B[38;5;241m10000\u001B[39m, \u001B[38;5;241m0.99\u001B[39m)\n",
      "File \u001B[1;32m~\\PycharmProjects\\pyPlayground\\rl\\mc.py:60\u001B[0m, in \u001B[0;36mmc_first_visit_policy_eval\u001B[1;34m(env, policy, n_episodes, discount_factor)\u001B[0m\n\u001B[0;32m     57\u001B[0m             returns[s] \u001B[38;5;241m+\u001B[39m\u001B[38;5;241m=\u001B[39m discounted_return\n\u001B[0;32m     58\u001B[0m             n_visits[s] \u001B[38;5;241m+\u001B[39m\u001B[38;5;241m=\u001B[39m \u001B[38;5;241m1\u001B[39m\n\u001B[1;32m---> 60\u001B[0m V \u001B[38;5;241m=\u001B[39m \u001B[43mreturns\u001B[49m\u001B[43m \u001B[49m\u001B[38;5;241;43m/\u001B[39;49m\u001B[43m \u001B[49m\u001B[43mn_visits\u001B[49m\n\u001B[0;32m     62\u001B[0m \u001B[38;5;28;01mreturn\u001B[39;00m V\n",
      "\u001B[1;31mFloatingPointError\u001B[0m: invalid value encountered in divide"
     ]
    }
   ],
   "source": [
    "from mc import mc_first_visit_policy_eval, mc_every_visit_policy_eval\n",
    "\n",
    "val_mc_first_visit = mc_first_visit_policy_eval(grid_env, valiter_policy, 10000, 0.99)\n",
    "val_mc_every_visit = mc_every_visit_policy_eval(grid_env, valiter_policy, 10000, 0.99)"
   ],
   "metadata": {
    "collapsed": false
   }
  },
  {
   "cell_type": "code",
   "execution_count": null,
   "outputs": [
    {
     "data": {
      "text/plain": "array([    nan, -1.    , -1.99  , -2.9701, -1.    , -1.99  , -2.9701,\n       -1.99  , -1.99  , -2.9701, -1.99  , -1.    , -2.9701, -1.99  ,\n       -1.    ,     nan])"
     },
     "execution_count": 15,
     "metadata": {},
     "output_type": "execute_result"
    }
   ],
   "source": [
    "val_mc_first_visit"
   ],
   "metadata": {
    "collapsed": false
   }
  },
  {
   "cell_type": "code",
   "execution_count": null,
   "outputs": [
    {
     "data": {
      "text/plain": "array([    nan, -1.    , -1.99  , -2.9701, -1.    , -1.99  , -2.9701,\n       -1.99  , -1.99  , -2.9701, -1.99  , -1.    , -2.9701, -1.99  ,\n       -1.    ,     nan])"
     },
     "execution_count": 16,
     "metadata": {},
     "output_type": "execute_result"
    }
   ],
   "source": [
    "val_mc_every_visit"
   ],
   "metadata": {
    "collapsed": false
   }
  },
  {
   "cell_type": "code",
   "execution_count": null,
   "outputs": [],
   "source": [
    "from mc import mc_first_visit_eps_greedy_control"
   ],
   "metadata": {
    "collapsed": false
   }
  },
  {
   "cell_type": "code",
   "execution_count": null,
   "outputs": [],
   "source": [
    "mc_policy, mc_Q = mc_first_visit_eps_greedy_control(grid_env, 1000, 0.1)\n"
   ],
   "metadata": {
    "collapsed": false
   }
  },
  {
   "cell_type": "code",
   "execution_count": null,
   "outputs": [
    {
     "data": {
      "text/plain": "<Figure size 640x480 with 1 Axes>",
      "image/png": "[encoded data removed]"
     },
     "metadata": {},
     "output_type": "display_data"
    }
   ],
   "source": [
    "plot_policy(mc_policy)"
   ],
   "metadata": {
    "collapsed": false
   }
  },
  {
   "cell_type": "code",
   "execution_count": null,
   "outputs": [
    {
     "data": {
      "text/plain": "array([[   0.        ,    0.        ,    0.        ,    0.        ],\n       [ -66.        ,  -46.        ,   -4.8       ,   -1.        ],\n       [ -53.11111111,  -12.1       ,  -50.125     ,  -30.61538462],\n       [ -45.        ,  -30.66666667,   -7.48529412,  -30.55555556],\n       [  -1.        ,  -13.76470588,  -12.46666667,   -4.12903226],\n       [  -9.11111111,  -11.75      ,  -14.6875    ,   -2.51244813],\n       [ -63.83333333,  -46.125     ,  -50.8       ,   -3.64528302],\n       [ -33.44444444,  -18.10526316,  -28.85714286,   -5.37356322],\n       [  -2.77464789,  -22.07142857,  -36.7       ,  -17.22222222],\n       [  -4.15642458,  -33.76923077,  -21.88888889,  -38.66666667],\n       [ -62.22222222,  -42.71428571,  -43.        ,   -8.48571429],\n       [ -82.        ,  -18.        ,   -1.        ,  -61.83333333],\n       [  -6.67741935,  -55.        ,  -38.        ,  -62.        ],\n       [ -43.2       ,  -42.66666667,  -54.66666667,   -5.20253165],\n       [-127.        ,   -1.        ,  -80.        ,  -28.5       ],\n       [   0.        ,    0.        ,    0.        ,    0.        ]])"
     },
     "execution_count": 20,
     "metadata": {},
     "output_type": "execute_result"
    }
   ],
   "source": [
    "mc_Q"
   ],
   "metadata": {
    "collapsed": false
   }
  },
  {
   "cell_type": "code",
   "execution_count": null,
   "outputs": [],
   "source": [
    "from mc import mc_off_policy_prediction\n",
    "\n",
    "np.seterr(all='raise')\n",
    "V = mc_off_policy_prediction(grid_env, eq_policy, valiter_policy, 1000, 1)"
   ],
   "metadata": {
    "collapsed": false
   }
  },
  {
   "cell_type": "code",
   "execution_count": null,
   "outputs": [
    {
     "data": {
      "text/plain": "array([ 0., -1., -2., -3., -1., -2., -3., -2., -2., -3., -2., -1., -3.,\n       -2., -1.,  0.])"
     },
     "execution_count": 22,
     "metadata": {},
     "output_type": "execute_result"
    }
   ],
   "source": [
    "V"
   ],
   "metadata": {
    "collapsed": false
   }
  },
  {
   "cell_type": "code",
   "execution_count": 39,
   "outputs": [],
   "source": [
    "from mc import mc_off_policy_control\n",
    "\n",
    "policy = mc_off_policy_control(grid_env, 10000, 1)"
   ],
   "metadata": {
    "collapsed": false
   }
  },
  {
   "cell_type": "code",
   "execution_count": 40,
   "outputs": [
    {
     "data": {
      "text/plain": "<Figure size 640x480 with 1 Axes>",
      "image/png": "[encoded data removed]"
     },
     "metadata": {},
     "output_type": "display_data"
    }
   ],
   "source": [
    "plot_policy(policy)"
   ],
   "metadata": {
    "collapsed": false
   }
  },
  {
   "cell_type": "code",
   "execution_count": null,
   "outputs": [],
   "source": [],
   "metadata": {
    "collapsed": false
   }
  }
 ],
 "metadata": {
  "kernelspec": {
   "display_name": "Python 3",
   "language": "python",
   "name": "python3"
  },
  "language_info": {
   "codemirror_mode": {
    "name": "ipython",
    "version": 2
   },
   "file_extension": ".py",
   "mimetype": "text/x-python",
   "name": "python",
   "nbconvert_exporter": "python",
   "pygments_lexer": "ipython2",
   "version": "2.7.6"
  }
 },
 "nbformat": 4,
 "nbformat_minor": 0
}
