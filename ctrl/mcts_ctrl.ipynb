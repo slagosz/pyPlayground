{
 "cells": [
  {
   "cell_type": "code",
   "execution_count": 19,
   "metadata": {
    "collapsed": true
   },
   "outputs": [
    {
     "name": "stdout",
     "output_type": "stream",
     "text": [
      "The autoreload extension is already loaded. To reload it, use:\n",
      "  %reload_ext autoreload\n"
     ]
    }
   ],
   "source": [
    "%load_ext autoreload\n",
    "%autoreload 2"
   ]
  },
  {
   "cell_type": "code",
   "execution_count": 20,
   "outputs": [],
   "source": [
    "\n",
    "from ctrl.control_system import DiscreteControlSystem\n",
    "import matplotlib.pyplot as plt\n",
    "from copy import copy\n",
    "import numpy as np\n",
    "\n",
    "\n",
    "def model(x, u):\n",
    "    F = 0.0015\n",
    "    G = 0.0025\n",
    "    x_next = copy(x)\n",
    "    x_next[0] += x[1]\n",
    "    x_next[1] += u * F - np.cos(3 * x[0]) * G\n",
    "\n",
    "    return x_next\n",
    "\n",
    "\n",
    "# define plant\n",
    "dt = 1\n",
    "\n",
    "plant_output = lambda x, u: x\n",
    "\n",
    "plant = DiscreteControlSystem(model, plant_output, dim_x=2, dim_u=1, dim_y=2, dt=dt)"
   ],
   "metadata": {
    "collapsed": false
   }
  },
  {
   "cell_type": "code",
   "execution_count": null,
   "outputs": [],
   "source": [
    "from ctrl.controllers.lqr import LQRController\n",
    "from ctrl.controllers.random import RandomController\n",
    "from ctrl.control_system import linearize_system\n",
    "\n",
    "# define cost function\n",
    "cost = lambda x, u : (x[0] - 0.5)**2 + u**2\n",
    "\n",
    "# create a dictionary of controllers\n",
    "\n",
    "# 1. LQR around (-0.52, 0) point\n",
    "Q = np.eye(2)\n",
    "R = np.eye(1)\n",
    "x0 = [(np.arccos(0) - np.pi)/ 3, 0]\n",
    "u0 = 0\n",
    "lin_plant = linearize_system(plant, x0, u0)\n",
    "lqr = LQRController(lin_plant, Q, R, x_ref=x0, u_ref=u0)\n",
    "\n",
    "# 2. LQR around (0.52, 0) point\n",
    "x0 = [np.arccos(0)/ 3, 0]\n",
    "u0 = 0\n",
    "lin_plant_2 = linearize_system(plant, x0, u0)\n",
    "lqr_2 = LQRController(lin_plant, Q, R, x_ref=x0, u_ref=u0)\n",
    "\n",
    "# 3. Random controller\n",
    "rnd_ctrl = RandomController(-1, 1)\n",
    "\n",
    "# 4. Bang-bang\n",
    "from ctrl.controllers.controller import StateFeedbackController\n",
    "\n",
    "class BangBang(StateFeedbackController):\n",
    "    def compute_control(self, x, t):\n",
    "        if x[0] < 0.5:\n",
    "            return 1.0\n",
    "        else:\n",
    "            return -1.0\n",
    "\n",
    "class ReverseBangBang(StateFeedbackController):\n",
    "    def compute_control(self, x, t):\n",
    "        if x[0] > 0.5:\n",
    "            return 1.0\n",
    "        else:\n",
    "            return -1.0\n",
    "\n",
    "bb_ctrl = BangBang()\n",
    "revbb_ctrl = ReverseBangBang()\n",
    "\n",
    "controllers = [lqr, lqr_2, rnd_ctrl, bb_ctrl]\n",
    "controllers = [lqr, lqr_2, rnd_ctrl, bb_ctrl, revbb_ctrl]\n",
    "controllers = [lqr_2]"
   ],
   "metadata": {
    "collapsed": false,
    "pycharm": {
     "is_executing": true
    }
   }
  },
  {
   "cell_type": "code",
   "execution_count": null,
   "outputs": [],
   "source": [
    "from ctrl.controllers.mcts import MCTSController\n",
    "\n",
    "# create MCTS\n",
    "x0 = [-0.5, 0]\n",
    "x_ref = 0.5\n",
    "cost_function = lambda x, u: -np.sum((x[0] - x_ref) ** 2 + 0.1 * u ** 2)\n",
    "mcts = MCTSController(tree_size=100, sim_time=20, control_system=plant,\n",
    "                      controllers=controllers, base_controller=bb_ctrl,\n",
    "                      cost_function=cost_function)\n",
    "\n"
   ],
   "metadata": {
    "collapsed": false
   }
  },
  {
   "cell_type": "code",
   "execution_count": null,
   "outputs": [],
   "source": [
    "from ctrl.simulation import DiscreteControllerPlantObserverLoop\n",
    "\n",
    "sim = DiscreteControllerPlantObserverLoop(mcts, plant)\n",
    "\n",
    "x, _, _, u = sim.sim(x0=x0, t=200)\n",
    "\n",
    "import matplotlib.pyplot as plt\n",
    "plt.plot(x)\n",
    "plt.plot(u)\n",
    "plt.legend(['x', 'v', 'u'])"
   ],
   "metadata": {
    "collapsed": false
   }
  },
  {
   "cell_type": "code",
   "execution_count": null,
   "outputs": [],
   "source": [
    "# import gymnasium as gym\n",
    "# env = gym.make('MountainCarContinuous-v0', render_mode=\"human\")\n",
    "# observation, info = env.reset()\n",
    "#\n",
    "# for _ in range(1000):\n",
    "#     action = [bb_ctrl(list(observation))]\n",
    "#     observation, reward, terminated, truncated, info = env.step(action)\n",
    "#\n",
    "#     if terminated or truncated:\n",
    "#         env.close()"
   ],
   "metadata": {
    "collapsed": false
   }
  },
  {
   "cell_type": "code",
   "execution_count": 22,
   "outputs": [
    {
     "data": {
      "text/plain": "[-0.5235987755982988, -1.5308084989341915e-19]"
     },
     "execution_count": 22,
     "metadata": {},
     "output_type": "execute_result"
    }
   ],
   "source": [
    "lqr_2(np.array([0, 0]))\n",
    "x0 = (np.arccos(0) - np.pi)/ 3\n",
    "model([x0, 0], 0)"
   ],
   "metadata": {
    "collapsed": false
   }
  }
 ],
 "metadata": {
  "kernelspec": {
   "display_name": "Python 3",
   "language": "python",
   "name": "python3"
  },
  "language_info": {
   "codemirror_mode": {
    "name": "ipython",
    "version": 2
   },
   "file_extension": ".py",
   "mimetype": "text/x-python",
   "name": "python",
   "nbconvert_exporter": "python",
   "pygments_lexer": "ipython2",
   "version": "2.7.6"
  }
 },
 "nbformat": 4,
 "nbformat_minor": 0
}
