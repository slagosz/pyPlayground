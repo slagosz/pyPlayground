{
 "cells": [
  {
   "cell_type": "code",
   "execution_count": 26,
   "metadata": {
    "collapsed": true
   },
   "outputs": [
    {
     "name": "stdout",
     "output_type": "stream",
     "text": [
      "The autoreload extension is already loaded. To reload it, use:\n",
      "  %reload_ext autoreload\n"
     ]
    },
    {
     "data": {
      "text/plain": "0.5235987755982988"
     },
     "execution_count": 26,
     "metadata": {},
     "output_type": "execute_result"
    }
   ],
   "source": [
    "%load_ext autoreload\n",
    "%autoreload 2\n",
    "\n",
    "from ctrl.control_system import DiscreteControlSystem\n",
    "import matplotlib.pyplot as plt\n",
    "from copy import copy\n",
    "import numpy as np\n",
    "\n",
    "\n",
    "def model(x, u):\n",
    "    F = 0.0015\n",
    "    G = 0.0025\n",
    "    x_next = copy(x)\n",
    "    x_next[0] += x[1]\n",
    "    x_next[1] += u * F - np.cos(3 * x[0]) * G\n",
    "\n",
    "    return x_next\n",
    "\n",
    "\n",
    "# define plant\n",
    "dt = 1\n",
    "\n",
    "plant_output = lambda x, u: x\n",
    "\n",
    "plant = DiscreteControlSystem(model, plant_output, dim_x=2, dim_u=1, dim_y=2, dt=dt)\n",
    "\n",
    "(np.arccos(0))/ 3"
   ]
  },
  {
   "cell_type": "code",
   "execution_count": 21,
   "outputs": [],
   "source": [
    "from ctrl.mcts import MCTS\n",
    "from ctrl.controllers.lqr import LQRController\n",
    "\n",
    "# define cost function\n",
    "cost = lambda x, u : (x[0] - 0.5)**2 + u**2\n",
    "\n",
    "# create a dictionary of controllers\n",
    "\n",
    "# 1. LQR around (-0.52, 0) point\n",
    "from ctrl.control_system import linearize_system\n",
    "lin_plant = linearize_system(plant, [(np.arccos(0) - np.pi)/ 3, 0], 0)\n",
    "lqr = LQRController()\n",
    "\n",
    "# 2. LQR around (0.52, 0) point\n",
    "lin_plant_2 = linearize_system(plant, [np.arccos(0) / 3, 0], 0)"
   ],
   "metadata": {
    "collapsed": false
   }
  }
 ],
 "metadata": {
  "kernelspec": {
   "display_name": "Python 3",
   "language": "python",
   "name": "python3"
  },
  "language_info": {
   "codemirror_mode": {
    "name": "ipython",
    "version": 2
   },
   "file_extension": ".py",
   "mimetype": "text/x-python",
   "name": "python",
   "nbconvert_exporter": "python",
   "pygments_lexer": "ipython2",
   "version": "2.7.6"
  }
 },
 "nbformat": 4,
 "nbformat_minor": 0
}
