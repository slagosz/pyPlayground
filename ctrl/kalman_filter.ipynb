{
 "cells": [
  {
   "cell_type": "code",
   "execution_count": 159,
   "outputs": [],
   "source": [
    "import numpy as np\n"
   ],
   "metadata": {
    "collapsed": false
   }
  },
  {
   "cell_type": "markdown",
   "source": [
    "Let's start with some simple linear system\n",
    "$x_{n+1} = Ax_n + Bu_n + w_n$\n",
    "$y_{n} = Cx_n + v_n,$\n",
    "where\n",
    "$w_n \\sim N(0, \\Sigma_w)$\n",
    "and\n",
    "$v_n \\sim N(0, \\Sigma_v)$\n",
    "\n",
    "Let's instantiate the system with some simple matrices:\n",
    "$A =   \\begin{bmatrix}\n",
    "   1 & 1 \\\\\n",
    "   0 & 1,\n",
    "   \\end{bmatrix}\n",
    "$\n",
    "$B =   \\begin{bmatrix}\n",
    "   0 \\\\\n",
    "   1\n",
    "   \\end{bmatrix}\n",
    "$\n",
    "\n",
    "$C =   \\begin{bmatrix}\n",
    "   1 & 0 \\\\\n",
    "   0 & 1\n",
    "   \\end{bmatrix}\n",
    "$"
   ],
   "metadata": {
    "collapsed": false
   }
  },
  {
   "cell_type": "code",
   "execution_count": 160,
   "outputs": [],
   "source": [
    "A = np.array([[1, 1], [0, 1]])\n",
    "B = np.array([0, 1]).T\n",
    "C = np.array([[1, 0], [0, 0]])\n",
    "\n",
    "mean_W = np.zeros(2)\n",
    "cov_W = np.eye(2) * 10e-1\n",
    "\n",
    "mean_V = np.zeros(2)\n",
    "cov_V = np.eye(2) * 10e-1\n",
    "\n",
    "\n",
    "class LTISystem:\n",
    "    def __init__(self, x0, A, B, C, mean_W, cov_W, mean_V, cov_V):\n",
    "        self.x = x0\n",
    "        self.A = A\n",
    "        self.B = B\n",
    "        self.C = C\n",
    "        self.mean_W = mean_W\n",
    "        self.cov_W = cov_W\n",
    "        self.mean_V = mean_V\n",
    "        self.cov_V = cov_V\n",
    "\n",
    "    def sample_w(self):\n",
    "        return np.random.multivariate_normal(self.mean_W, self.cov_W)\n",
    "\n",
    "    def sample_v(self):\n",
    "        return np.random.multivariate_normal(self.mean_V, self.cov_V)\n",
    "\n",
    "    def step(self, u):\n",
    "        w = self.sample_w()\n",
    "        v = self.sample_v()\n",
    "        self.x = self.A @ self.x + self.B * u + w\n",
    "        y = self.C @ self.x + v\n",
    "\n",
    "        return y\n",
    "\n",
    "x0 = np.array([0, 0]).T\n",
    "s = LTISystem(x0, A, B, C, mean_W, cov_W, mean_V, cov_V)\n"
   ],
   "metadata": {
    "collapsed": false
   }
  },
  {
   "cell_type": "markdown",
   "source": [
    "Now we want to estimate the state $x_n$ given the measurements $y_n$.\n",
    "First, generate some trajectory of the system and the measurements."
   ],
   "metadata": {
    "collapsed": false
   }
  },
  {
   "cell_type": "code",
   "execution_count": 161,
   "outputs": [],
   "source": [
    "x = []\n",
    "y = []\n",
    "u = []\n",
    "\n",
    "for i in range(10):\n",
    "    if i < 5:\n",
    "        u_i = 1\n",
    "    else:\n",
    "        u_i = 0\n",
    "    y.append(s.step(u_i))\n",
    "    x.append(s.x)\n",
    "    u.append(u_i)\n"
   ],
   "metadata": {
    "collapsed": false
   }
  },
  {
   "cell_type": "code",
   "execution_count": 162,
   "outputs": [
    {
     "data": {
      "text/plain": "[array([-1.10160188, -0.64443562]),\n array([ 0.87621131, -1.84267977]),\n array([5.91193774, 2.77485919]),\n array([9.87764375, 1.0483355 ]),\n array([16.68013636, -1.09030892]),\n array([2.48169122e+01, 2.16098223e-02]),\n array([32.67599332,  0.1885204 ]),\n array([39.35919058,  0.47390609]),\n array([47.53969034,  1.05876678]),\n array([56.78138007,  1.894438  ])]"
     },
     "execution_count": 162,
     "metadata": {},
     "output_type": "execute_result"
    }
   ],
   "source": [
    "y"
   ],
   "metadata": {
    "collapsed": false
   }
  },
  {
   "cell_type": "code",
   "execution_count": 163,
   "outputs": [
    {
     "data": {
      "text/plain": "[array([-1.90486971,  2.56733953]),\n array([1.2959679 , 2.61353921]),\n array([5.64128702, 3.32552671]),\n array([9.39929158, 6.04426048]),\n array([16.76286167,  7.87640055]),\n array([24.21550036,  7.7157806 ]),\n array([31.81500606,  8.08410957]),\n array([40.38525749,  7.84817614]),\n array([47.04413949,  9.34866473]),\n array([56.08700072,  9.54536475])]"
     },
     "execution_count": 163,
     "metadata": {},
     "output_type": "execute_result"
    }
   ],
   "source": [
    "x"
   ],
   "metadata": {
    "collapsed": false
   }
  },
  {
   "cell_type": "code",
   "execution_count": 164,
   "outputs": [
    {
     "data": {
      "text/plain": "array([56.08700072,  9.54536475])"
     },
     "execution_count": 164,
     "metadata": {},
     "output_type": "execute_result"
    }
   ],
   "source": [
    "s.x"
   ],
   "metadata": {
    "collapsed": false
   }
  },
  {
   "cell_type": "markdown",
   "source": [
    "Now we want to estimate the state $x_n$ given the measurements $y_n$.\n",
    "\n",
    "Our prior belief about the state is\n",
    "$$x_0 \\sim N(\\mu_{x_0}, P_{x_0})$$\n",
    "\n",
    "After we get the measurement $y_0$, we update our belief about the state using the Bayes rule:\n",
    "$$p(x_0|y_0) = \\frac{p(y_0|x_0)p(x_0)}{p(y_0)}$$\n",
    "$$\\hat{x_0} = \\arg\\max_{x} p(x|y_0) = \\arg\\max_{x} p(y_0|x)p(x)$$\n",
    "Since\n",
    "$$y_0 = Cx_0 + v_0$$, we have\n",
    "$$p(y_0|x_0) = N(y_0; Cx_0, \\Sigma_v)$$\n",
    "\n",
    "Now, we want to find the distribution of $x_0$ given $y_0$. By using Bayes rule, we have:\n",
    "$$p(x_0|y_0) = \\frac{p(y_0|x_0) * p(x_0)}{p(y_0)}$$\n",
    "and our estimate of $x_0$ is\n",
    "$$\\hat{x_0} = \\arg\\max p(x_0|y_0)$$.\n",
    "\n",
    "To derive the posterior distribution $$p(x_0|y_0)$$, let's first consider the joint probability of $x_0$ and $y_0$:\n",
    "$$\\begin{bmatrix}\n",
    "   x_0 \\\\\n",
    "   y_0\n",
    "   \\end{bmatrix} \\sim N\\left(\\begin{bmatrix}\n",
    "    \\mu_{x_0} \\\\\n",
    "    C\\mu_{x_0}\n",
    "    \\end{bmatrix}, \\begin{bmatrix}\n",
    "    P_{x_0} & P_{x_0}C^T \\\\\n",
    "    CP_{x_0} & CP_{x_0}C^T + \\Sigma_v\n",
    "    \\end{bmatrix}\\right)$$\n",
    "\n",
    "We'll use the fact that if\n",
    "$$\\begin{bmatrix}\n",
    "   x \\\\\n",
    "   y\n",
    "   \\end{bmatrix} \\sim N\\left(\\begin{bmatrix}\n",
    "    \\mu_{x} \\\\\n",
    "    \\mu_{y}\n",
    "    \\end{bmatrix}, \\begin{bmatrix}\n",
    "    P_{x} & P_{xy} \\\\\n",
    "    P_{yx} & P_{y}\n",
    "    \\end{bmatrix}\\right)$$\n",
    "then\n",
    "    (x|y) ~ N($\\mu_x + P_{xy}P_{y}^{-1}(y - \\mu_y)$, $P_x - P_{xy}P_{y}^{-1}P_{yx}$).\n",
    "\n",
    "Now, we can derive the posterior distribution of $x_0$ given $y_0$:\n",
    "$$p(x_0|y_0) = N(x_0; \\mu_{x_0|y_0}, P_{x_0|y_0})$$\n",
    "where\n",
    "$$\\mu_{x_0|y_0} = \\mu_{x_0} + P_{x_0}C^T(CP_{x_0}C^T + \\Sigma_v)^{-1}(y_0 - C\\mu_{x_0})$$\n",
    "$$P_{x_0|y_0} = P_{x_0} - P_{x_0}C^T(CP_{x_0}C^T + \\Sigma_v)^{-1}CP_{x_0}.$$\n",
    "\n",
    "Finally, we get our estimate of $x_0$:\n",
    "$$\\hat{x_0} = \\mu_{x_0|y_0}$$.\n",
    "\n",
    "\n",
    "Let's code this up:"
   ],
   "metadata": {
    "collapsed": false
   }
  },
  {
   "cell_type": "markdown",
   "source": [],
   "metadata": {
    "collapsed": false
   }
  },
  {
   "cell_type": "code",
   "execution_count": 165,
   "outputs": [
    {
     "name": "stdout",
     "output_type": "stream",
     "text": [
      "est_x0=array([-0.36720063,  0.        ])\n",
      "x[0]=array([-1.90486971,  2.56733953])\n"
     ]
    }
   ],
   "source": [
    "mean_x0 = np.array([0, 0]).T\n",
    "cov_x0 = np.eye(2) * 0.5 # parameterize the uncertainty of our prior belief about x0\n",
    "\n",
    "posterior_mean_x0 = mean_x0 + cov_x0 @ C.T @ np.linalg.inv(C @ cov_x0 @ C.T + cov_V) @ (y[0] - C @ mean_x0)\n",
    "posterior_cov_x0 = cov_x0 - cov_x0 @ C.T @ np.linalg.inv(C @ cov_x0 @ C.T + cov_V) @ C @ cov_x0\n",
    "\n",
    "est_x0 = posterior_mean_x0\n",
    "\n",
    "print(f\"{est_x0=}\")\n",
    "print(f\"{x[0]=}\")"
   ],
   "metadata": {
    "collapsed": false
   }
  },
  {
   "cell_type": "markdown",
   "source": [
    "Now, we want to estimate the state $x_1$ given the measurements $y_1$. We can use an analogous procedure as above. There are two stages to that. In the first one, we derive a prior belief about $x_1$ by using the fact that the state $x_1$ is a linear function of $x_0$ and $u_0$:\n",
    "$$x_1 \\sim N(\\mu_{x_1}, P_{x_1})$$\n",
    "where\n",
    "$$\\mu_{x_1} = A\\mu_{\\hat{x_0}} + Bu_0,$$\n",
    "$$P_{x_1} = AP_{\\hat{x_0}}A^T + \\Sigma_w.$$"
   ],
   "metadata": {
    "collapsed": false
   }
  },
  {
   "cell_type": "code",
   "execution_count": 166,
   "outputs": [],
   "source": [
    "mean_x1 = A @ posterior_mean_x0 + B * u[0]\n",
    "cov_x1 = A @ posterior_cov_x0 @ A.T + cov_W"
   ],
   "metadata": {
    "collapsed": false
   }
  },
  {
   "cell_type": "markdown",
   "source": [
    "Now, we want to find the posterior distribution of $x_1$ given $y_1$. We can use the same procedure as above:\n",
    "$$p(x_1|y_1) = N(x_1; \\mu_{x_1|y_1}, P_{x_1|y_1})$$\n",
    "where\n",
    "$$\\mu_{x_1|y_1} = \\mu_{x_1} + P_{x_1}C^T(CP_{x_1}C^T + \\Sigma_v)^{-1}(y_1 - C\\mu_{x_1})$$\n",
    "$$P_{x_1|y_1} = P_{x_1} - P_{x_1}C^T(CP_{x_1}C^T + \\Sigma_v)^{-1}CP_{x_1}.$$"
   ],
   "metadata": {
    "collapsed": false
   }
  },
  {
   "cell_type": "code",
   "execution_count": 167,
   "outputs": [
    {
     "name": "stdout",
     "output_type": "stream",
     "text": [
      "est_x1=array([0.43736004, 1.21942564])\n",
      "x[1]=array([1.2959679 , 2.61353921])\n"
     ]
    }
   ],
   "source": [
    "posterior_mean_x1 = mean_x1 + cov_x1 @ C.T @ np.linalg.inv(C @ cov_x1 @ C.T + cov_V) @ (y[1] - C @ mean_x1)\n",
    "posterior_cov_x1 = cov_x1 - cov_x1 @ C.T @ np.linalg.inv(C @ cov_x1 @ C.T + cov_V) @ C @ cov_x1\n",
    "\n",
    "est_x1 = posterior_mean_x1\n",
    "print(f\"{est_x1=}\")\n",
    "print(f\"{x[1]=}\")"
   ],
   "metadata": {
    "collapsed": false
   }
  },
  {
   "cell_type": "markdown",
   "source": [
    "This procedure follows recursively. We can use the same procedure to estimate $x_2$ given $y_2$, and so on. Let's wrap this up in a class:"
   ],
   "metadata": {
    "collapsed": false
   }
  },
  {
   "cell_type": "code",
   "execution_count": 168,
   "outputs": [
    {
     "name": "stdout",
     "output_type": "stream",
     "text": [
      "x_est=[array([-0.73440125,  0.81639969]), array([0.69638953, 2.10111751]), array([5.3286698, 4.388709 ]), array([9.84890168, 5.45624778]), array([16.4350246 ,  7.03656308]), array([24.57722109,  7.60438079]), array([32.58791383,  7.81305104]), array([39.54478772,  7.37333856]), array([47.42895629,  7.63568961]), array([56.47553764,  8.36029288])]\n"
     ]
    }
   ],
   "source": [
    "class KalmanFilter:\n",
    "    def __init__(self, A, B, C, cov_W, cov_V, mean_x0, cov_x0):\n",
    "        self.A = A\n",
    "        self.B = B\n",
    "        self.C = C\n",
    "        self.cov_W = cov_W\n",
    "        self.cov_V = cov_V\n",
    "        self.mean = mean_x0\n",
    "        self.cov = cov_x0\n",
    "\n",
    "    def step(self, u, y):\n",
    "        prior_mean = A @ self.mean + B * u\n",
    "        prior_cov = A @ self.cov @ A.T + cov_W\n",
    "\n",
    "        self.mean = prior_mean + prior_cov @ C.T @ np.linalg.inv(C @ prior_cov @ C.T + cov_V) @ (y - C @ prior_mean)\n",
    "        self.cov = prior_cov - prior_cov @ C.T @ np.linalg.inv(C @ prior_cov @ C.T + cov_V) @ C @ prior_cov\n",
    "\n",
    "        return self.mean\n",
    "\n",
    "\n",
    "kalman = KalmanFilter(A, B, C, cov_W, cov_V, mean_x0, cov_x0)\n",
    "x_est = [kalman.step(u, y) for u, y in zip(u, y)]\n",
    "print(f\"{x_est=}\")"
   ],
   "metadata": {
    "collapsed": false
   }
  },
  {
   "cell_type": "code",
   "execution_count": 173,
   "outputs": [
    {
     "data": {
      "text/plain": "Text(0.5, 0, 't')"
     },
     "execution_count": 173,
     "metadata": {},
     "output_type": "execute_result"
    },
    {
     "data": {
      "text/plain": "<Figure size 640x480 with 1 Axes>",
      "image/png": "[encoded data removed]"
     },
     "metadata": {},
     "output_type": "display_data"
    }
   ],
   "source": [
    "import matplotlib.pyplot as plt\n",
    "\n",
    "plt.plot(x_est, label=[\"est_x0\", \"est_x1\"])\n",
    "plt.plot(x, label=[\"true_x0\", \"true_x1\"])\n",
    "plt.legend()\n",
    "plt.xlabel(\"t\")"
   ],
   "metadata": {
    "collapsed": false
   }
  },
  {
   "cell_type": "code",
   "execution_count": 169,
   "outputs": [],
   "source": [],
   "metadata": {
    "collapsed": false
   }
  }
 ],
 "metadata": {
  "kernelspec": {
   "display_name": "Python 3",
   "language": "python",
   "name": "python3"
  },
  "language_info": {
   "codemirror_mode": {
    "name": "ipython",
    "version": 2
   },
   "file_extension": ".py",
   "mimetype": "text/x-python",
   "name": "python",
   "nbconvert_exporter": "python",
   "pygments_lexer": "ipython2",
   "version": "2.7.6"
  }
 },
 "nbformat": 4,
 "nbformat_minor": 0
}
